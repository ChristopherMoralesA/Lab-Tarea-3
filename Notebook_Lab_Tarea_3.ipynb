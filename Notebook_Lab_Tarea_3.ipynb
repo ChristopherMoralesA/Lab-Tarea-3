{
 "cells": [
  {
   "cell_type": "markdown",
   "metadata": {},
   "source": [
    "# **Laboratorio #3 - Modulación de Ángulo**\n"
   ]
  },
  {
   "cell_type": "code",
   "execution_count": 65,
   "metadata": {},
   "outputs": [],
   "source": [
    "#Bibliotecas y funciones\n",
    "#Se importan las bibliotecas mas importantes\n",
    "import matplotlib.pyplot as plt\n",
    "import numpy as np\n",
    "from numpy import arange,sin,cos,pi, linspace\n",
    "from scipy.fft import fft, fftfreq\n",
    "from scipy.signal import butter, lfilter, freqz\n",
    "from scipy.integrate import quad\n",
    "from scipy.misc import derivative\n",
    "\n",
    "#Definicion de funciones a utilizar\n",
    "#Funcion para crear una señal cosenoidal\n",
    "def cosenoidal(f,A,Offset=0, Theta=0):\n",
    "    m = A*cos(2*pi*f*t + Theta) + Offset\n",
    "    return m\n",
    "\n",
    "#Funcion para realizar un FFT de una señal\n",
    "def plotfft(func):\n",
    "    F = fft(func)\n",
    "    tf = fftfreq(samples, T/samples)\n",
    "    return tf,F\n",
    "\n",
    "#Funciones para filtro basa bajas\n",
    "def butter_lowpass(cutoff, fs, order=5):\n",
    "    nyq = 0.5 * fs\n",
    "    normal_cutoff = cutoff / nyq\n",
    "    b, a = butter(order, normal_cutoff, btype='low', analog=False)\n",
    "    return b, a\n",
    "\n",
    "def butter_lowpass_filter(data, cutoff, fs, order=5):\n",
    "    b, a = butter_lowpass(cutoff, fs, order=order)\n",
    "    y = lfilter(b, a, data)\n",
    "    return y\n",
    "\n",
    "def PM(Ac,fc,t,kp,m):\n",
    "    spm = Ac*cos(2*pi*fc*t+kp*m)\n",
    "    return spm\n",
    "\"\"\"\n",
    "def integrador(t,func_type= \"cos\",a=0,b=0,c=0,d=0):\n",
    "    func_type = str(func_type)\n",
    "    res = np.zeros_like(t)\n",
    "    if func_type == \"cos\":\n",
    "        func = lambda x: a*cos(2*pi*b*x+c)\n",
    "    elif func_type == \"sin\":\n",
    "        func = lambda x: a*sin(2*pi*b*x+c)\n",
    "    for i,val in enumerate(t):\n",
    "        y,err = quad(func,0,val)\n",
    "        res[i]=y\n",
    "    return res\n",
    "\"\"\"\n",
    "\n",
    "def derivador(A,f,t,func_type= \"cos\",phase=0):\n",
    "    if func_type == \"cos\":\n",
    "        f = -A*sin(2*pi*f*t+phase)\n",
    "    elif func_type == \"sin\":\n",
    "        f = A*cos(2*pi*f*t+phase)\n",
    "    return f\n",
    "\n",
    "def integrador(A,f,t,func_type= \"cos\",phase=0):\n",
    "    if func_type == \"cos\":\n",
    "        f = A*sin(2*pi*f*t+phase)\n",
    "    elif func_type == \"sin\":\n",
    "        f = -A*cos(2*pi*f*t+phase)\n",
    "    return f"
   ]
  },
  {
   "cell_type": "markdown",
   "metadata": {},
   "source": [
    "\n",
    "## ACTIVIDAD # 1 \n"
   ]
  },
  {
   "cell_type": "markdown",
   "metadata": {},
   "source": [
    "#### 1.  A partir de las ecuaciones de señal modulada FM y PM, obtenga las curvas que describen el comportamiento de un sistema básico de modulación de ángulo. Para la señal moduladora puede usar una señal de tono continua clásica, esto es, un seno o un coseno como por ejemplo 𝑚(𝑡) = 𝐴m cos(2𝜋𝑓m t). Debe desplegar las siguientes curvas: m(t), m’(t), c(t) y s(t) tanto para FM como para PM, para un total de 5 gráficas. Los valores de las diferentes variables debe ajustarlos para que las gráficas anteriores permitan apreciar correctamente el comportamiento de ambos tipos de modulación. Recuerde que debe explicar adecuadamente en la notebook todas las elecciones y criterios que lleve cabo. Realice un análisis completo de los resultados obtenidos, para cada gráfica."
   ]
  },
  {
   "cell_type": "code",
   "execution_count": 2,
   "metadata": {},
   "outputs": [],
   "source": [
    "#Señales de entrada\n",
    "\n",
    "#Numero de puntos y duracion\n",
    "samples = 1000 \n",
    "T = 0.1\n",
    "\n",
    "#Espacio temporal\n",
    "t = linspace(0, T, samples, endpoint=False)\n",
    "\n",
    "#Señales iniciales:\n",
    "#Moduladora\n",
    "#Frecuencia de 60Hz, Amplitud de 1.5 y Offset de 2\n",
    "fm = 60\n",
    "Am = 1.5\n",
    "Offm = 2\n",
    "m = cosenoidal(fm,Am,Offm)\n",
    "Mtf, M = plotfft(m)\n",
    "\n",
    "#Protadora\n",
    "#Frecuencia de 300Hz y Amplitud de 1\n",
    "fc = 300\n",
    "Ac = 1\n",
    "c = cosenoidal(fc,Ac,0,-pi/2)\n",
    "Ctf, C = plotfft(c)\n"
   ]
  },
  {
   "cell_type": "markdown",
   "metadata": {},
   "source": [
    "\n",
    "## ACTIVIDAD # 2\n"
   ]
  },
  {
   "cell_type": "markdown",
   "metadata": {},
   "source": [
    "#### 1. Construya un sistema de comunicación modulador FM de tipo NBFM y NBPM. Elija y justifique los valores apropiados de las distintas variables que permitan observar el comportamiento esperado de ambos métodos. \n"
   ]
  },
  {
   "cell_type": "markdown",
   "metadata": {},
   "source": [
    "#### 2. Verifique las señales moduladas obtenidas tanto en el tiempo como en la frecuencia, explique los resultados obtenidos. \n"
   ]
  },
  {
   "cell_type": "markdown",
   "metadata": {},
   "source": [
    "#### 3. Para el caso del modulador NBFM, seleccione al menos dos valores de beta, uno donde se aprecie que existe modulación de amplitud residual, y otro valor de beta donde se mantengan los criterios de NBFM/PM, pero que NO se presente modulación en amplitud residual, justifique ambos valores de beta. Realice un análisis completo de los resultados obtenidos, para cada gráfica. \n"
   ]
  },
  {
   "cell_type": "markdown",
   "metadata": {},
   "source": [
    "\n",
    "## ACTIVIDAD # 3\n"
   ]
  },
  {
   "cell_type": "markdown",
   "metadata": {},
   "source": [
    "#### 1. Construya un sistema de modulación WBFM, siguiendo lo lineamientos de este tipo de modulación en relación a beta y partiendo de la ecuación de señal modulada en FM: 𝑠FM(𝑡) = 𝐴c cos(2𝜋𝑓c t + 𝛽 sin(2𝜋𝑓m t)). Para la señal de mensaje puede usar el tono clásico: 𝑚(𝑡) = 𝐴m cos(2𝜋𝑓m t). \n"
   ]
  },
  {
   "cell_type": "markdown",
   "metadata": {},
   "source": [
    "#### 2- Despliegue, entre 3 y 5 gráficas de la señal modulada resultante en tiempo y la frecuencia, para diferentes valores de beta, variando únicamente 𝑓m y manteniendo constante 𝛥f. En las gráficas se debe visualizar el efecto de la variación en beta. Realice un análisis completo de los resultados obtenidos, para cada gráfica. \n"
   ]
  },
  {
   "cell_type": "markdown",
   "metadata": {},
   "source": [
    "#### 3- Despliegue, entre 3 y 5 gráficas de la señal modulada resultante en tiempo y la frecuencia, para diferentes valores de beta, variando únicamente 𝛥f y manteniendo 𝑓m constante. En las gráficas se debe visualizar el efecto de la variación en beta. Realice un análisis completo de los resultados obtenidos, para cada gráfica. \n"
   ]
  },
  {
   "cell_type": "markdown",
   "metadata": {},
   "source": [
    "#### 4- Escoja un valor de beta pequeño, como los usados en NBFM, grafique las curvas de frecuencia y verifique que se obtengan los resultados esperados, y realice un análisis completo de los resultados obtenidos. \n"
   ]
  },
  {
   "cell_type": "markdown",
   "metadata": {},
   "source": [
    "#### 5- Diseñe una rutina en la que obtenga las curvas de la función de Bessel. "
   ]
  }
 ],
 "metadata": {
  "interpreter": {
   "hash": "dc3d30e35f9f561365c468ef4bda3969a5dc759bb3240f525725481f89dcf988"
  },
  "kernelspec": {
   "display_name": "Python 3.10.2 64-bit",
   "language": "python",
   "name": "python3"
  },
  "language_info": {
   "codemirror_mode": {
    "name": "ipython",
    "version": 3
   },
   "file_extension": ".py",
   "mimetype": "text/x-python",
   "name": "python",
   "nbconvert_exporter": "python",
   "pygments_lexer": "ipython3",
   "version": "3.10.2"
  },
  "orig_nbformat": 4
 },
 "nbformat": 4,
 "nbformat_minor": 2
}
